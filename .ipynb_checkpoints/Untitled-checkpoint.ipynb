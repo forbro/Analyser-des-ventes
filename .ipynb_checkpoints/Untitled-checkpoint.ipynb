{
 "cells": [
  {
   "cell_type": "code",
   "execution_count": 1,
   "metadata": {},
   "outputs": [],
   "source": [
    "import pandas as pd\n",
    "import numpy as np\n",
    "import seaborn as sns\n",
    "import matplotlib.pyplot as plt\n",
    "import scipy.stats as st"
   ]
  },
  {
   "cell_type": "code",
   "execution_count": 2,
   "metadata": {},
   "outputs": [],
   "source": [
    "customers = pd.DataFrame(pd.read_csv('customers.csv'))\n",
    "transac = pd.DataFrame(pd.read_csv('transactions.csv', parse_dates=['date']))\n",
    "products = pd.DataFrame(pd.read_csv('products.csv'))"
   ]
  },
  {
   "cell_type": "code",
   "execution_count": 134,
   "metadata": {},
   "outputs": [],
   "source": [
    "df = pd.merge(transac, products, on = ['id_prod'], how='outer')\n",
    "df = pd.merge(df, customers, on = ['client_id'], how='outer')"
   ]
  },
  {
   "cell_type": "markdown",
   "metadata": {},
   "source": [
    "# Mission 1\n",
    "   * <font color='red' size=4> \n",
    "    Traiter les valeurs aberrantes\n",
    "    </font>\n",
    "   * <font color='red' size=4> \n",
    "    Traites les valeurs manquantes\n",
    "   </font>"
   ]
  },
  {
   "cell_type": "markdown",
   "metadata": {},
   "source": [
    "#### Identifier les produits non vendus et les supprimer "
   ]
  },
  {
   "cell_type": "code",
   "execution_count": 135,
   "metadata": {},
   "outputs": [
    {
     "data": {
      "text/plain": [
       "array(['0_1016', '0_1780', '0_1062', '0_1119', '0_1014', '1_0', '0_1318',\n",
       "       '0_1800', '0_1645', '0_322', '0_1620', '0_1025', '2_87', '1_394',\n",
       "       '2_72', '0_310', '0_1624', '0_525', '2_86', '0_299', '0_510',\n",
       "       '0_2308'], dtype=object)"
      ]
     },
     "execution_count": 135,
     "metadata": {},
     "output_type": "execute_result"
    }
   ],
   "source": [
    "df.loc[(df['date'].isnull()) & (df['client_id'].isnull()), 'id_prod'].unique()"
   ]
  },
  {
   "cell_type": "code",
   "execution_count": 136,
   "metadata": {},
   "outputs": [
    {
     "data": {
      "text/plain": [
       "22"
      ]
     },
     "execution_count": 136,
     "metadata": {},
     "output_type": "execute_result"
    }
   ],
   "source": [
    "# Créer un dataset contenant seulement les produits non vendus\n",
    "non_vendus = products[products['id_prod'].isin(['0_1016', '0_1780', '0_1062', '0_1119', '0_1014', '1_0', '0_1318',\n",
    "       '0_1800', '0_1645', '0_322', '0_1620', '0_1025', '2_87', '1_394',\n",
    "       '2_72', '0_310', '0_1624', '0_525', '2_86', '0_299', '0_510',\n",
    "       '0_2308'])]\n",
    "len(non_vendus)"
   ]
  },
  {
   "cell_type": "code",
   "execution_count": 137,
   "metadata": {},
   "outputs": [
    {
     "data": {
      "text/html": [
       "<div>\n",
       "<style scoped>\n",
       "    .dataframe tbody tr th:only-of-type {\n",
       "        vertical-align: middle;\n",
       "    }\n",
       "\n",
       "    .dataframe tbody tr th {\n",
       "        vertical-align: top;\n",
       "    }\n",
       "\n",
       "    .dataframe thead th {\n",
       "        text-align: right;\n",
       "    }\n",
       "</style>\n",
       "<table border=\"1\" class=\"dataframe\">\n",
       "  <thead>\n",
       "    <tr style=\"text-align: right;\">\n",
       "      <th></th>\n",
       "      <th>id_prod</th>\n",
       "      <th>date</th>\n",
       "      <th>session_id</th>\n",
       "      <th>client_id</th>\n",
       "      <th>price</th>\n",
       "      <th>categ</th>\n",
       "      <th>sex</th>\n",
       "      <th>birth</th>\n",
       "    </tr>\n",
       "  </thead>\n",
       "  <tbody>\n",
       "    <tr>\n",
       "      <th>336768</th>\n",
       "      <td>T_0</td>\n",
       "      <td>test_2021-03-01 02:30:02.237420</td>\n",
       "      <td>s_0</td>\n",
       "      <td>ct_1</td>\n",
       "      <td>-1.0</td>\n",
       "      <td>0.0</td>\n",
       "      <td>m</td>\n",
       "      <td>2001.0</td>\n",
       "    </tr>\n",
       "    <tr>\n",
       "      <th>336769</th>\n",
       "      <td>T_0</td>\n",
       "      <td>test_2021-03-01 02:30:02.237446</td>\n",
       "      <td>s_0</td>\n",
       "      <td>ct_1</td>\n",
       "      <td>-1.0</td>\n",
       "      <td>0.0</td>\n",
       "      <td>m</td>\n",
       "      <td>2001.0</td>\n",
       "    </tr>\n",
       "    <tr>\n",
       "      <th>336770</th>\n",
       "      <td>T_0</td>\n",
       "      <td>test_2021-03-01 02:30:02.237414</td>\n",
       "      <td>s_0</td>\n",
       "      <td>ct_1</td>\n",
       "      <td>-1.0</td>\n",
       "      <td>0.0</td>\n",
       "      <td>m</td>\n",
       "      <td>2001.0</td>\n",
       "    </tr>\n",
       "    <tr>\n",
       "      <th>336771</th>\n",
       "      <td>T_0</td>\n",
       "      <td>test_2021-03-01 02:30:02.237434</td>\n",
       "      <td>s_0</td>\n",
       "      <td>ct_1</td>\n",
       "      <td>-1.0</td>\n",
       "      <td>0.0</td>\n",
       "      <td>m</td>\n",
       "      <td>2001.0</td>\n",
       "    </tr>\n",
       "    <tr>\n",
       "      <th>336772</th>\n",
       "      <td>T_0</td>\n",
       "      <td>test_2021-03-01 02:30:02.237412</td>\n",
       "      <td>s_0</td>\n",
       "      <td>ct_1</td>\n",
       "      <td>-1.0</td>\n",
       "      <td>0.0</td>\n",
       "      <td>m</td>\n",
       "      <td>2001.0</td>\n",
       "    </tr>\n",
       "    <tr>\n",
       "      <th>...</th>\n",
       "      <td>...</td>\n",
       "      <td>...</td>\n",
       "      <td>...</td>\n",
       "      <td>...</td>\n",
       "      <td>...</td>\n",
       "      <td>...</td>\n",
       "      <td>...</td>\n",
       "      <td>...</td>\n",
       "    </tr>\n",
       "    <tr>\n",
       "      <th>336963</th>\n",
       "      <td>T_0</td>\n",
       "      <td>test_2021-03-01 02:30:02.237437</td>\n",
       "      <td>s_0</td>\n",
       "      <td>ct_0</td>\n",
       "      <td>-1.0</td>\n",
       "      <td>0.0</td>\n",
       "      <td>f</td>\n",
       "      <td>2001.0</td>\n",
       "    </tr>\n",
       "    <tr>\n",
       "      <th>336964</th>\n",
       "      <td>T_0</td>\n",
       "      <td>test_2021-03-01 02:30:02.237438</td>\n",
       "      <td>s_0</td>\n",
       "      <td>ct_0</td>\n",
       "      <td>-1.0</td>\n",
       "      <td>0.0</td>\n",
       "      <td>f</td>\n",
       "      <td>2001.0</td>\n",
       "    </tr>\n",
       "    <tr>\n",
       "      <th>336965</th>\n",
       "      <td>T_0</td>\n",
       "      <td>test_2021-03-01 02:30:02.237436</td>\n",
       "      <td>s_0</td>\n",
       "      <td>ct_0</td>\n",
       "      <td>-1.0</td>\n",
       "      <td>0.0</td>\n",
       "      <td>f</td>\n",
       "      <td>2001.0</td>\n",
       "    </tr>\n",
       "    <tr>\n",
       "      <th>336966</th>\n",
       "      <td>T_0</td>\n",
       "      <td>test_2021-03-01 02:30:02.237445</td>\n",
       "      <td>s_0</td>\n",
       "      <td>ct_0</td>\n",
       "      <td>-1.0</td>\n",
       "      <td>0.0</td>\n",
       "      <td>f</td>\n",
       "      <td>2001.0</td>\n",
       "    </tr>\n",
       "    <tr>\n",
       "      <th>336967</th>\n",
       "      <td>T_0</td>\n",
       "      <td>test_2021-03-01 02:30:02.237430</td>\n",
       "      <td>s_0</td>\n",
       "      <td>ct_0</td>\n",
       "      <td>-1.0</td>\n",
       "      <td>0.0</td>\n",
       "      <td>f</td>\n",
       "      <td>2001.0</td>\n",
       "    </tr>\n",
       "  </tbody>\n",
       "</table>\n",
       "<p>200 rows × 8 columns</p>\n",
       "</div>"
      ],
      "text/plain": [
       "       id_prod                             date session_id client_id  price  \\\n",
       "336768     T_0  test_2021-03-01 02:30:02.237420        s_0      ct_1   -1.0   \n",
       "336769     T_0  test_2021-03-01 02:30:02.237446        s_0      ct_1   -1.0   \n",
       "336770     T_0  test_2021-03-01 02:30:02.237414        s_0      ct_1   -1.0   \n",
       "336771     T_0  test_2021-03-01 02:30:02.237434        s_0      ct_1   -1.0   \n",
       "336772     T_0  test_2021-03-01 02:30:02.237412        s_0      ct_1   -1.0   \n",
       "...        ...                              ...        ...       ...    ...   \n",
       "336963     T_0  test_2021-03-01 02:30:02.237437        s_0      ct_0   -1.0   \n",
       "336964     T_0  test_2021-03-01 02:30:02.237438        s_0      ct_0   -1.0   \n",
       "336965     T_0  test_2021-03-01 02:30:02.237436        s_0      ct_0   -1.0   \n",
       "336966     T_0  test_2021-03-01 02:30:02.237445        s_0      ct_0   -1.0   \n",
       "336967     T_0  test_2021-03-01 02:30:02.237430        s_0      ct_0   -1.0   \n",
       "\n",
       "        categ sex   birth  \n",
       "336768    0.0   m  2001.0  \n",
       "336769    0.0   m  2001.0  \n",
       "336770    0.0   m  2001.0  \n",
       "336771    0.0   m  2001.0  \n",
       "336772    0.0   m  2001.0  \n",
       "...       ...  ..     ...  \n",
       "336963    0.0   f  2001.0  \n",
       "336964    0.0   f  2001.0  \n",
       "336965    0.0   f  2001.0  \n",
       "336966    0.0   f  2001.0  \n",
       "336967    0.0   f  2001.0  \n",
       "\n",
       "[200 rows x 8 columns]"
      ]
     },
     "execution_count": 137,
     "metadata": {},
     "output_type": "execute_result"
    }
   ],
   "source": [
    "# Identifier les prix négatifs \n",
    "df[df['price'] < 0]"
   ]
  },
  {
   "cell_type": "code",
   "execution_count": null,
   "metadata": {},
   "outputs": [],
   "source": [
    "# Supprimer les tests du dataset et donc des prix négatifs\n",
    "df = df[df['price'] > 0]"
   ]
  },
  {
   "cell_type": "code",
   "execution_count": 131,
   "metadata": {},
   "outputs": [
    {
     "data": {
      "text/plain": [
       "id_prod        0\n",
       "date          22\n",
       "session_id    22\n",
       "client_id     22\n",
       "price          0\n",
       "categ          0\n",
       "sex           22\n",
       "birth         22\n",
       "dtype: int64"
      ]
     },
     "execution_count": 131,
     "metadata": {},
     "output_type": "execute_result"
    }
   ],
   "source": [
    "df.isnull().sum()"
   ]
  },
  {
   "cell_type": "code",
   "execution_count": 132,
   "metadata": {},
   "outputs": [],
   "source": [
    "# Supprimer les produits non vendus du dataset\n",
    "df = df.dropna()"
   ]
  },
  {
   "cell_type": "code",
   "execution_count": 133,
   "metadata": {},
   "outputs": [
    {
     "data": {
      "text/plain": [
       "id_prod       0\n",
       "date          0\n",
       "session_id    0\n",
       "client_id     0\n",
       "price         0\n",
       "categ         0\n",
       "sex           0\n",
       "birth         0\n",
       "dtype: int64"
      ]
     },
     "execution_count": 133,
     "metadata": {},
     "output_type": "execute_result"
    }
   ],
   "source": [
    "df.isnull().sum()"
   ]
  },
  {
   "cell_type": "markdown",
   "metadata": {},
   "source": [
    "## Convertir la colonne date en datetime, créer la colonne age et réorganiser le dataset"
   ]
  },
  {
   "cell_type": "code",
   "execution_count": 69,
   "metadata": {},
   "outputs": [],
   "source": [
    "# Convertir la colonne date en datetime\n",
    "df['date'] = pd.to_datetime(df['date'])\n",
    "\n",
    "# Créer la colonne age et la convertir avec la colonne categ en int\n",
    "df['age'] = df['date'].dt.year - df['birth']\n",
    "df['age'] = df['age'].astype(int)\n",
    "df['categ'] = df['categ'].astype(int)\n",
    "\n",
    "# Remplacer les lettres par des nombres dans la colonne sex et la convertir en int\n",
    "df['sex'].replace(['f','m'], [0, 1], inplace=True)\n",
    "df['sex'] = df['sex'].astype(int)\n",
    "\n",
    "# Réorganiser le dataset en supprimer les colonnes inutiles pour l'analyse\n",
    "df = df.reindex(columns=['client_id','sex','age','date','id_prod','categ','price'])"
   ]
  },
  {
   "cell_type": "markdown",
   "metadata": {},
   "source": [
    "### Identifier les valeurs aberrantes pour chaque catégorie de produit puis les supprimer"
   ]
  },
  {
   "cell_type": "code",
   "execution_count": 96,
   "metadata": {},
   "outputs": [
    {
     "data": {
      "text/plain": [
       "<AxesSubplot:xlabel='price'>"
      ]
     },
     "execution_count": 96,
     "metadata": {},
     "output_type": "execute_result"
    },
    {
     "data": {
      "image/png": "[encoded data removed]",
      "text/plain": [
       "<Figure size 432x288 with 1 Axes>"
      ]
     },
     "metadata": {
      "needs_background": "light"
     },
     "output_type": "display_data"
    }
   ],
   "source": [
    "sns.boxplot(x=df.loc[df['categ'] == 0, 'price'])"
   ]
  },
  {
   "cell_type": "code",
   "execution_count": 95,
   "metadata": {},
   "outputs": [
    {
     "data": {
      "text/plain": [
       "<AxesSubplot:xlabel='price'>"
      ]
     },
     "execution_count": 95,
     "metadata": {},
     "output_type": "execute_result"
    },
    {
     "data": {
      "image/png": "[encoded data removed]",
      "text/plain": [
       "<Figure size 432x288 with 1 Axes>"
      ]
     },
     "metadata": {
      "needs_background": "light"
     },
     "output_type": "display_data"
    }
   ],
   "source": [
    "sns.boxplot(x=df.loc[df['categ'] == 1, 'price'])"
   ]
  },
  {
   "cell_type": "code",
   "execution_count": 94,
   "metadata": {},
   "outputs": [
    {
     "data": {
      "text/plain": [
       "<AxesSubplot:xlabel='price'>"
      ]
     },
     "execution_count": 94,
     "metadata": {},
     "output_type": "execute_result"
    },
    {
     "data": {
      "image/png": "[encoded data removed]",
      "text/plain": [
       "<Figure size 432x288 with 1 Axes>"
      ]
     },
     "metadata": {
      "needs_background": "light"
     },
     "output_type": "display_data"
    }
   ],
   "source": [
    "sns.boxplot(x=df.loc[df['categ'] == 2, 'price'])"
   ]
  },
  {
   "cell_type": "code",
   "execution_count": 108,
   "metadata": {},
   "outputs": [],
   "source": [
    "df = df.loc[((df['categ'] == 0) & (df['price'] < 26.5)) | ((df['categ'] == 1) & ((df['price'] > 1.5) & (df['price'] < 37)) | ((df['categ'] == 2) & (df['price'] < 93.5))]"
   ]
  },
  {
   "cell_type": "code",
   "execution_count": 93,
   "metadata": {},
   "outputs": [
    {
     "data": {
      "text/plain": [
       "<AxesSubplot:xlabel='age'>"
      ]
     },
     "execution_count": 93,
     "metadata": {},
     "output_type": "execute_result"
    },
    {
     "data": {
      "image/png": "[encoded data removed]",
      "text/plain": [
       "<Figure size 432x288 with 1 Axes>"
      ]
     },
     "metadata": {
      "needs_background": "light"
     },
     "output_type": "display_data"
    }
   ],
   "source": [
    "sns.boxplot(x=df.loc[df['categ'] == 0, 'age'])"
   ]
  },
  {
   "cell_type": "code",
   "execution_count": 92,
   "metadata": {},
   "outputs": [
    {
     "data": {
      "text/plain": [
       "<AxesSubplot:xlabel='age'>"
      ]
     },
     "execution_count": 92,
     "metadata": {},
     "output_type": "execute_result"
    },
    {
     "data": {
      "image/png": "[encoded data removed]",
      "text/plain": [
       "<Figure size 432x288 with 1 Axes>"
      ]
     },
     "metadata": {
      "needs_background": "light"
     },
     "output_type": "display_data"
    }
   ],
   "source": [
    "sns.boxplot(x=df.loc[df['categ'] == 1, 'age'])"
   ]
  },
  {
   "cell_type": "code",
   "execution_count": 91,
   "metadata": {},
   "outputs": [
    {
     "data": {
      "text/plain": [
       "<AxesSubplot:xlabel='age'>"
      ]
     },
     "execution_count": 91,
     "metadata": {},
     "output_type": "execute_result"
    },
    {
     "data": {
      "image/png": "[encoded data removed]",
      "text/plain": [
       "<Figure size 432x288 with 1 Axes>"
      ]
     },
     "metadata": {
      "needs_background": "light"
     },
     "output_type": "display_data"
    }
   ],
   "source": [
    "sns.boxplot(x=df.loc[df['categ'] == 2, 'age'])"
   ]
  },
  {
   "cell_type": "code",
   "execution_count": 82,
   "metadata": {},
   "outputs": [],
   "source": [
    "df = df.loc[((df['categ'] == 0) & (df['age'] < 66)) | ((df['categ'] == 1) & (df['age'] < 88)) | ((df['categ'] == 2) & (df['age'] < 37))]"
   ]
  },
  {
   "cell_type": "code",
   "execution_count": 98,
   "metadata": {},
   "outputs": [],
   "source": [
    "# Vérifier la présence ou non de valeurs aberrantes avec la fonction find_outliers\n",
    "def find_outliers(v):\n",
    "    Q1 = v.quantile(0.25)\n",
    "    Q3 = v.quantile(0.75)\n",
    "    IQ = Q3 - Q1\n",
    "    LI = Q1 - (IQ*1.5)\n",
    "    LS = Q3 + (IQ*1.5)\n",
    "    i = list(v.index[(v < LI) | (v > LS)])\n",
    "    val = list(v[i])\n",
    "    return val"
   ]
  },
  {
   "cell_type": "code",
   "execution_count": 99,
   "metadata": {},
   "outputs": [],
   "source": [
    "categ = find_outliers(df.loc[df['categ'] == 0, 'price'])\n",
    "categ1 = find_outliers(df.loc[df['categ'] == 1, 'price'])\n",
    "categ2 = find_outliers(df.loc[df['categ'] == 2, 'price'])"
   ]
  },
  {
   "cell_type": "code",
   "execution_count": 106,
   "metadata": {},
   "outputs": [
    {
     "data": {
      "text/plain": [
       "[2.0, 2.0, 2.0, 2.0, 2.0, 2.0, 2.0, 2.0, 2.0, 2.0, 2.0]"
      ]
     },
     "execution_count": 106,
     "metadata": {},
     "output_type": "execute_result"
    }
   ],
   "source": [
    "categ1"
   ]
  },
  {
   "cell_type": "code",
   "execution_count": 111,
   "metadata": {},
   "outputs": [
    {
     "data": {
      "text/html": [
       "<div>\n",
       "<style scoped>\n",
       "    .dataframe tbody tr th:only-of-type {\n",
       "        vertical-align: middle;\n",
       "    }\n",
       "\n",
       "    .dataframe tbody tr th {\n",
       "        vertical-align: top;\n",
       "    }\n",
       "\n",
       "    .dataframe thead th {\n",
       "        text-align: right;\n",
       "    }\n",
       "</style>\n",
       "<table border=\"1\" class=\"dataframe\">\n",
       "  <thead>\n",
       "    <tr style=\"text-align: right;\">\n",
       "      <th></th>\n",
       "      <th>client_id</th>\n",
       "      <th>sex</th>\n",
       "      <th>age</th>\n",
       "      <th>date</th>\n",
       "      <th>id_prod</th>\n",
       "      <th>categ</th>\n",
       "      <th>price</th>\n",
       "    </tr>\n",
       "  </thead>\n",
       "  <tbody>\n",
       "    <tr>\n",
       "      <th>23115</th>\n",
       "      <td>c_7250</td>\n",
       "      <td>1</td>\n",
       "      <td>43</td>\n",
       "      <td>2021-03-14 20:35:12.436358</td>\n",
       "      <td>1_238</td>\n",
       "      <td>1</td>\n",
       "      <td>2.0</td>\n",
       "    </tr>\n",
       "    <tr>\n",
       "      <th>36379</th>\n",
       "      <td>c_3454</td>\n",
       "      <td>1</td>\n",
       "      <td>53</td>\n",
       "      <td>2022-01-02 17:39:41.059648</td>\n",
       "      <td>1_238</td>\n",
       "      <td>1</td>\n",
       "      <td>2.0</td>\n",
       "    </tr>\n",
       "    <tr>\n",
       "      <th>40998</th>\n",
       "      <td>c_5422</td>\n",
       "      <td>0</td>\n",
       "      <td>34</td>\n",
       "      <td>2022-01-25 02:48:35.045910</td>\n",
       "      <td>1_238</td>\n",
       "      <td>1</td>\n",
       "      <td>2.0</td>\n",
       "    </tr>\n",
       "    <tr>\n",
       "      <th>117003</th>\n",
       "      <td>c_4285</td>\n",
       "      <td>1</td>\n",
       "      <td>46</td>\n",
       "      <td>2021-03-15 17:12:28.900242</td>\n",
       "      <td>1_238</td>\n",
       "      <td>1</td>\n",
       "      <td>2.0</td>\n",
       "    </tr>\n",
       "    <tr>\n",
       "      <th>149512</th>\n",
       "      <td>c_140</td>\n",
       "      <td>1</td>\n",
       "      <td>42</td>\n",
       "      <td>2022-02-07 17:55:06.032341</td>\n",
       "      <td>1_238</td>\n",
       "      <td>1</td>\n",
       "      <td>2.0</td>\n",
       "    </tr>\n",
       "    <tr>\n",
       "      <th>149808</th>\n",
       "      <td>c_3714</td>\n",
       "      <td>1</td>\n",
       "      <td>40</td>\n",
       "      <td>2021-08-04 16:55:08.490922</td>\n",
       "      <td>1_238</td>\n",
       "      <td>1</td>\n",
       "      <td>2.0</td>\n",
       "    </tr>\n",
       "    <tr>\n",
       "      <th>150789</th>\n",
       "      <td>c_3249</td>\n",
       "      <td>0</td>\n",
       "      <td>39</td>\n",
       "      <td>2021-11-03 06:14:09.231041</td>\n",
       "      <td>1_238</td>\n",
       "      <td>1</td>\n",
       "      <td>2.0</td>\n",
       "    </tr>\n",
       "    <tr>\n",
       "      <th>192260</th>\n",
       "      <td>c_504</td>\n",
       "      <td>0</td>\n",
       "      <td>57</td>\n",
       "      <td>2021-05-25 09:41:34.126787</td>\n",
       "      <td>1_238</td>\n",
       "      <td>1</td>\n",
       "      <td>2.0</td>\n",
       "    </tr>\n",
       "    <tr>\n",
       "      <th>244551</th>\n",
       "      <td>c_8053</td>\n",
       "      <td>1</td>\n",
       "      <td>51</td>\n",
       "      <td>2022-01-10 05:02:41.413934</td>\n",
       "      <td>1_238</td>\n",
       "      <td>1</td>\n",
       "      <td>2.0</td>\n",
       "    </tr>\n",
       "    <tr>\n",
       "      <th>283492</th>\n",
       "      <td>c_276</td>\n",
       "      <td>1</td>\n",
       "      <td>34</td>\n",
       "      <td>2021-05-27 23:36:58.137825</td>\n",
       "      <td>1_238</td>\n",
       "      <td>1</td>\n",
       "      <td>2.0</td>\n",
       "    </tr>\n",
       "    <tr>\n",
       "      <th>326933</th>\n",
       "      <td>c_7467</td>\n",
       "      <td>1</td>\n",
       "      <td>21</td>\n",
       "      <td>2021-11-15 10:52:13.801897</td>\n",
       "      <td>1_238</td>\n",
       "      <td>1</td>\n",
       "      <td>2.0</td>\n",
       "    </tr>\n",
       "  </tbody>\n",
       "</table>\n",
       "</div>"
      ],
      "text/plain": [
       "       client_id  sex  age                       date id_prod  categ  price\n",
       "23115     c_7250    1   43 2021-03-14 20:35:12.436358   1_238      1    2.0\n",
       "36379     c_3454    1   53 2022-01-02 17:39:41.059648   1_238      1    2.0\n",
       "40998     c_5422    0   34 2022-01-25 02:48:35.045910   1_238      1    2.0\n",
       "117003    c_4285    1   46 2021-03-15 17:12:28.900242   1_238      1    2.0\n",
       "149512     c_140    1   42 2022-02-07 17:55:06.032341   1_238      1    2.0\n",
       "149808    c_3714    1   40 2021-08-04 16:55:08.490922   1_238      1    2.0\n",
       "150789    c_3249    0   39 2021-11-03 06:14:09.231041   1_238      1    2.0\n",
       "192260     c_504    0   57 2021-05-25 09:41:34.126787   1_238      1    2.0\n",
       "244551    c_8053    1   51 2022-01-10 05:02:41.413934   1_238      1    2.0\n",
       "283492     c_276    1   34 2021-05-27 23:36:58.137825   1_238      1    2.0\n",
       "326933    c_7467    1   21 2021-11-15 10:52:13.801897   1_238      1    2.0"
      ]
     },
     "execution_count": 111,
     "metadata": {},
     "output_type": "execute_result"
    }
   ],
   "source": [
    "df.loc[(df['price'] <= 2) & (df['categ'] == 1)]"
   ]
  },
  {
   "cell_type": "markdown",
   "metadata": {},
   "source": [
    "# Mission 2\n",
    "* ### Des indicateurs de tendances centrales\n",
    "* ### Une analyse de concentration via une courbe de Lorenz et un indice de Gini\n",
    "* ### Une représentation graphique dont:\n",
    "    * <font color='red' size=4>    \n",
    "    Un histogramme,\n",
    "    </font>\n",
    "    * <font color='red' size=4> \n",
    "    Une représentation avec des boîtes à moustaches\n",
    "    </font>\n",
    "    * <font color='red' size=4> \n",
    "    Une représentation de série temporelle\n",
    "    </font>\n",
    "* ### Des analyses bivariées"
   ]
  },
  {
   "cell_type": "code",
   "execution_count": null,
   "metadata": {},
   "outputs": [],
   "source": [
    "ca_monthly = df.pivot_table(index='date',values='price', columns='categ').resample('m').sum()\n",
    "ca_monthly"
   ]
  },
  {
   "cell_type": "markdown",
   "metadata": {},
   "source": [
    "## Chiffre d'affaire par mois et par catégories"
   ]
  },
  {
   "cell_type": "code",
   "execution_count": null,
   "metadata": {},
   "outputs": [],
   "source": [
    "ca_monthly.plot()"
   ]
  },
  {
   "cell_type": "code",
   "execution_count": null,
   "metadata": {},
   "outputs": [],
   "source": [
    "ca_weekly = df.pivot_table(index='date',values='price', columns='categ').resample('w').sum()\n",
    "ca_weekly"
   ]
  },
  {
   "cell_type": "code",
   "execution_count": null,
   "metadata": {},
   "outputs": [],
   "source": [
    "plt.plot(df[\"price\"],df[\"age\"],'o',alpha=0.5)\n",
    "plt.xlabel(\"Price\")\n",
    "plt.ylabel(\"Age\")\n",
    "plt.show()"
   ]
  },
  {
   "cell_type": "code",
   "execution_count": null,
   "metadata": {},
   "outputs": [],
   "source": [
    "plt.plot(df.loc[df['categ'] == 0,\"age\"],df.loc[df['categ'] == 0,\"price\"],'o',alpha=0.5)\n",
    "plt.xlabel(\"Age\")\n",
    "plt.ylabel(\"price\")\n",
    "plt.show()"
   ]
  },
  {
   "cell_type": "code",
   "execution_count": null,
   "metadata": {},
   "outputs": [],
   "source": [
    "plt.plot(df.loc[df['categ'] == 1,\"age\"],df.loc[df['categ'] == 1,\"price\"],'o',alpha=0.5)\n",
    "plt.xlabel(\"Age\")\n",
    "plt.ylabel(\"price\")\n",
    "plt.show()"
   ]
  },
  {
   "cell_type": "code",
   "execution_count": null,
   "metadata": {},
   "outputs": [],
   "source": [
    "plt.plot(df.loc[df['categ'] == 2,\"age\"],df.loc[df['categ'] == 2,\"price\"],'o',alpha=0.5)\n",
    "plt.xlabel(\"Age\")\n",
    "plt.ylabel(\"price\")\n",
    "plt.show()"
   ]
  },
  {
   "cell_type": "code",
   "execution_count": null,
   "metadata": {},
   "outputs": [],
   "source": [
    "print(st.pearsonr(df.loc[df['categ'] == 2,\"age\"],df.loc[df['categ'] == 2,\"price\"]))\n",
    "print(np.cov(df[\"price\"],df[\"age\"],ddof=0)[1,0])"
   ]
  },
  {
   "cell_type": "markdown",
   "metadata": {},
   "source": [
    "## Analyse de deux variables quantatives (age et price)"
   ]
  },
  {
   "cell_type": "code",
   "execution_count": null,
   "metadata": {},
   "outputs": [],
   "source": [
    "fig, ax = plt.subplots(figsize=(12,8))\n",
    "taille_classe = 10 # taille des classes pour la discrétisation\n",
    "\n",
    "groupes = [] # va recevoir les données agrégées à afficher\n",
    "\n",
    "# on calcule des tranches allant de 0 au solde maximum par paliers de taille taille_classe\n",
    "tranches = np.arange(0, max(df[\"age\"]), taille_classe)\n",
    "#tranches += taille_classe/2 # on décale les tranches d'une demi taille de classe\n",
    "indices = np.digitize(df[\"age\"], tranches) # associe chaque age à son numéro de classe\n",
    "\n",
    "for ind, tr in enumerate(tranches): # pour chaque tranche, ind reçoit le numéro de tranche et tr la tranche en question\n",
    "    age = df.loc[indices==ind,\"price\"] # sélection des individus de la tranche ind\n",
    "    if len(age) > 0:\n",
    "        g = {\n",
    "            'valeurs': age,\n",
    "            'centre_classe': tr-(taille_classe/2),\n",
    "            'taille': len(age),\n",
    "            'quartiles': [np.percentile(age,p) for p in [25,50,75]]\n",
    "        }\n",
    "        groupes.append(g)\n",
    "\n",
    "# affichage des boxplots\n",
    "plt.boxplot([g[\"valeurs\"] for g in groupes],\n",
    "            positions= [g[\"centre_classe\"] for g in groupes], # abscisses des boxplots\n",
    "            showfliers= False, # on ne prend pas en compte les outliers\n",
    "            widths= taille_classe*0.7, # largeur graphique des boxplots\n",
    ")\n",
    "plt.xlabel('Age')\n",
    "plt.ylabel('Montant du panier')\n",
    "\n",
    "# affichage des effectifs de chaque classe\n",
    "for g in groupes:\n",
    "    plt.text(g[\"centre_classe\"],0,\"(n={})\".format(g[\"taille\"]),horizontalalignment='center',verticalalignment='top')     \n",
    "plt.show()\n",
    "\n",
    "\"\"\" affichage des quartiles\n",
    "for n_quartile in range(3):\n",
    "    plt.plot([g[\"centre_classe\"] for g in groupes],\n",
    "             [g[\"quartiles\"][n_quartile] for g in groupes])\n",
    "plt.show() \"\"\""
   ]
  },
  {
   "cell_type": "code",
   "execution_count": null,
   "metadata": {},
   "outputs": [],
   "source": [
    "import datetime as dt\n",
    "\n",
    "# calcul de la variable attente\n",
    "r = []\n",
    "last_date = dt.datetime.now()\n",
    "for i,row in df.iterrows():\n",
    "    days = (row[\"date\"]-last_date).days\n",
    "    if days == 0:\n",
    "        r.append(r[-1])\n",
    "    else:\n",
    "        r.append(days)\n",
    "    last_date = row[\"date\"]\n",
    "df[\"attente\"] = r\n",
    "df = df.iloc[1:,]\n",
    "\n",
    "# on regroupe les opérations qui ont été effectués à la même date\n",
    "# (courses réalisées le même jour mais dans 2 magasins différents)\n",
    "a = df.groupby(\"date\")[\"price\"].sum()\n",
    "b = df.groupby(\"date\")[\"attente\"].first()\n",
    "d = pd.DataFrame({\"price\":a, \"attente\":b})"
   ]
  },
  {
   "cell_type": "markdown",
   "metadata": {},
   "source": [
    "### La droite de régression linéaire"
   ]
  },
  {
   "cell_type": "code",
   "execution_count": null,
   "metadata": {},
   "outputs": [],
   "source": [
    "import statsmodels.api as sm\n",
    "Y = df['age']\n",
    "X = df[['price']]\n",
    "X = X.copy() # On modifiera X, on en crée donc une copie\n",
    "X['intercept'] = 1\n",
    "result = sm.OLS(Y, X).fit() # OLS = Ordinary Least Square (Moindres Carrés Ordinaire)\n",
    "a,b = result.params['price'],result.params['intercept']"
   ]
  },
  {
   "cell_type": "code",
   "execution_count": null,
   "metadata": {},
   "outputs": [],
   "source": [
    "plt.plot(df.price,df.age, \"o\")\n",
    "plt.plot(np.arange(96),[a*x+b for x in np.arange(96)])\n",
    "plt.xlabel(\"Price\")\n",
    "plt.ylabel(\"Age\")\n",
    "plt.show()"
   ]
  },
  {
   "cell_type": "markdown",
   "metadata": {},
   "source": [
    "## Analyse d'une variable quantative et d'une variable qualitative (price et categ,  age et categ, price et sex, et age et sex)"
   ]
  },
  {
   "cell_type": "code",
   "execution_count": null,
   "metadata": {},
   "outputs": [],
   "source": [
    "X = \"categ\" # qualitative\n",
    "Y = \"price\" # quantitative\n",
    "\n",
    "# On ne garde que les dépenses\n",
    "sous_echantillon = df.copy()\n",
    "\n",
    "modalites = sous_echantillon[X].unique()\n",
    "groupes = []\n",
    "for m in modalites:\n",
    "    groupes.append(sous_echantillon[sous_echantillon[X]==m][Y])\n",
    "\n",
    "# Propriétés graphiques (pas très importantes)    \n",
    "medianprops = {'color':\"black\"}\n",
    "meanprops = {'marker':'o', 'markeredgecolor':'black',\n",
    "            'markerfacecolor':'firebrick'}\n",
    "    \n",
    "plt.boxplot(groupes, labels=modalites, showfliers=False, medianprops=medianprops, \n",
    "            vert=True, patch_artist=True, showmeans=True, meanprops=meanprops)\n",
    "plt.show()"
   ]
  },
  {
   "cell_type": "code",
   "execution_count": null,
   "metadata": {},
   "outputs": [],
   "source": [
    "X = \"categ\" # qualitative\n",
    "Y = \"age\" # quantitative\n",
    "\n",
    "# On ne garde que les dépenses\n",
    "sous_echantillon = df.copy()\n",
    "\n",
    "modalites = sous_echantillon[X].unique()\n",
    "groupes = []\n",
    "for m in modalites:\n",
    "    groupes.append(sous_echantillon[sous_echantillon[X]==m][Y])\n",
    "\n",
    "# Propriétés graphiques (pas très importantes)    \n",
    "medianprops = {'color':\"black\"}\n",
    "meanprops = {'marker':'o', 'markeredgecolor':'black',\n",
    "            'markerfacecolor':'firebrick'}\n",
    "    \n",
    "plt.boxplot(groupes, labels=modalites, showfliers=False, medianprops=medianprops, \n",
    "            vert=True, patch_artist=True, showmeans=True, meanprops=meanprops)\n",
    "plt.show()"
   ]
  },
  {
   "cell_type": "code",
   "execution_count": null,
   "metadata": {},
   "outputs": [],
   "source": [
    "X = \"sex\" # qualitative\n",
    "Y = \"price\" # quantitative\n",
    "\n",
    "# On ne garde que les dépenses\n",
    "sous_echantillon = df.copy()\n",
    "\n",
    "modalites = sous_echantillon[X].unique()\n",
    "groupes = []\n",
    "for m in modalites:\n",
    "    groupes.append(sous_echantillon[sous_echantillon[X]==m][Y])\n",
    "\n",
    "# Propriétés graphiques (pas très importantes)    \n",
    "medianprops = {'color':\"black\"}\n",
    "meanprops = {'marker':'o', 'markeredgecolor':'black',\n",
    "            'markerfacecolor':'firebrick'}\n",
    "    \n",
    "plt.boxplot(groupes, labels=modalites, showfliers=False, medianprops=medianprops, \n",
    "            vert=True, patch_artist=True, showmeans=True, meanprops=meanprops)\n",
    "plt.show()"
   ]
  },
  {
   "cell_type": "code",
   "execution_count": null,
   "metadata": {},
   "outputs": [],
   "source": [
    "X = \"sex\" # qualitative\n",
    "Y = \"age\" # quantitative\n",
    "\n",
    "# On ne garde que les dépenses\n",
    "sous_echantillon = df.copy()\n",
    "\n",
    "modalites = sous_echantillon[X].unique()\n",
    "groupes = []\n",
    "for m in modalites:\n",
    "    groupes.append(sous_echantillon[sous_echantillon[X]==m][Y])\n",
    "\n",
    "# Propriétés graphiques (pas très importantes)    \n",
    "medianprops = {'color':\"black\"}\n",
    "meanprops = {'marker':'o', 'markeredgecolor':'black',\n",
    "            'markerfacecolor':'firebrick'}\n",
    "    \n",
    "plt.boxplot(groupes, labels=modalites, showfliers=False, medianprops=medianprops, \n",
    "            vert=True, patch_artist=True, showmeans=True, meanprops=meanprops)\n",
    "plt.show()"
   ]
  },
  {
   "cell_type": "code",
   "execution_count": null,
   "metadata": {},
   "outputs": [],
   "source": [
    "X = \"categ\" # qualitative\n",
    "Y = \"price\" # quantitative\n",
    "\n",
    "sous_echantillon = df.copy() # On ne garde que les dépenses\n",
    "\n",
    "def eta_squared(x,y):\n",
    "    moyenne_y = y.mean()\n",
    "    classes = []\n",
    "    for classe in x.unique():\n",
    "        yi_classe = y[x==classe]\n",
    "        classes.append({'ni': len(yi_classe),\n",
    "                        'moyenne_classe': yi_classe.mean()})\n",
    "    SCT = sum([(yj-moyenne_y)**2 for yj in y])\n",
    "    SCE = sum([c['ni']*(c['moyenne_classe']-moyenne_y)**2 for c in classes])\n",
    "    return SCE/SCT\n",
    "    \n",
    "eta_squared(sous_echantillon[X],sous_echantillon[Y])"
   ]
  },
  {
   "cell_type": "code",
   "execution_count": null,
   "metadata": {},
   "outputs": [],
   "source": [
    "df.corr()"
   ]
  },
  {
   "cell_type": "code",
   "execution_count": null,
   "metadata": {},
   "outputs": [],
   "source": [
    "X = \"sex\"\n",
    "Y = \"categ\"\n",
    "\n",
    "cont = df[[X,Y]].pivot_table(index=X,columns=Y,aggfunc=len,margins=True,margins_name=\"Total\")\n",
    "cont"
   ]
  },
  {
   "cell_type": "code",
   "execution_count": null,
   "metadata": {},
   "outputs": [],
   "source": [
    "data = df.copy()\n",
    "data['date'] = data['date'].dt.date"
   ]
  },
  {
   "cell_type": "code",
   "execution_count": null,
   "metadata": {},
   "outputs": [],
   "source": [
    "data['year'] = data['date'].dt.year"
   ]
  },
  {
   "cell_type": "code",
   "execution_count": null,
   "metadata": {},
   "outputs": [],
   "source": [
    "X = \"year\"\n",
    "Y = \"categ\"\n",
    "\n",
    "cont = data[[X,Y]].pivot_table(index=X,columns=Y,aggfunc=len,margins=True,margins_name=\"Total\")\n",
    "cont"
   ]
  },
  {
   "cell_type": "code",
   "execution_count": null,
   "metadata": {},
   "outputs": [],
   "source": [
    "import seaborn as sns\n",
    "\n",
    "tx = cont.loc[:,[\"Total\"]]\n",
    "ty = cont.loc[[\"Total\"],:]\n",
    "n = len(df)\n",
    "indep = tx.dot(ty) / n\n",
    "\n",
    "c = cont.fillna(0) # On remplace les valeurs nulles par 0\n",
    "measure = (c-indep)**2/indep\n",
    "xi_n = measure.sum().sum()\n",
    "table = measure/xi_n\n",
    "fig, ax = plt.subplots(figsize=(12,8))\n",
    "sns.heatmap(table.iloc[:-1,:-1],annot=c.iloc[:-1,:-1] )\n",
    "plt.show()"
   ]
  },
  {
   "cell_type": "code",
   "execution_count": null,
   "metadata": {},
   "outputs": [],
   "source": []
  }
 ],
 "metadata": {
  "kernelspec": {
   "display_name": "Python 3",
   "language": "python",
   "name": "python3"
  },
  "language_info": {
   "codemirror_mode": {
    "name": "ipython",
    "version": 3
   },
   "file_extension": ".py",
   "mimetype": "text/x-python",
   "name": "python",
   "nbconvert_exporter": "python",
   "pygments_lexer": "ipython3",
   "version": "3.8.5"
  }
 },
 "nbformat": 4,
 "nbformat_minor": 4
}
